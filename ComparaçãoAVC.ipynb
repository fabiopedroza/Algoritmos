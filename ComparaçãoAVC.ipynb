{
  "nbformat": 4,
  "nbformat_minor": 0,
  "metadata": {
    "colab": {
      "name": "ComparaçãoAVC.ipynb",
      "provenance": [],
      "collapsed_sections": [],
      "authorship_tag": "ABX9TyNcjqXTwcChZObCyv3S+Um0",
      "include_colab_link": true
    },
    "kernelspec": {
      "name": "python3",
      "display_name": "Python 3"
    },
    "language_info": {
      "name": "python"
    }
  },
  "cells": [
    {
      "cell_type": "markdown",
      "metadata": {
        "id": "view-in-github",
        "colab_type": "text"
      },
      "source": [
        "<a href=\"https://colab.research.google.com/github/fabiopedroza/Algoritmos/blob/main/Compara%C3%A7%C3%A3oAVC.ipynb\" target=\"_parent\"><img src=\"https://colab.research.google.com/assets/colab-badge.svg\" alt=\"Open In Colab\"/></a>"
      ]
    },
    {
      "cell_type": "markdown",
      "metadata": {
        "id": "xu35vXty0dFf"
      },
      "source": [
        ""
      ]
    },
    {
      "cell_type": "markdown",
      "metadata": {
        "id": "s2RxLepL0mOk"
      },
      "source": [
        "# Importar biblioteca\n",
        "import pandas as pd"
      ]
    },
    {
      "cell_type": "code",
      "metadata": {
        "id": "Ax7sZDyK0uCP"
      },
      "source": [
        "# Leitura das bases\n",
        "df_pro  = pd.read_csv('/content/CNPJ_EMPRESA.csv')\n",
        "df_avc  = pd.read_csv('/content/CNPJ_JUL2021.csv')"
      ],
      "execution_count": null,
      "outputs": []
    },
    {
      "cell_type": "code",
      "metadata": {
        "id": "nosvS9Ys1q4H"
      },
      "source": [
        "# Verificar os dados\n",
        "df_avc.head()"
      ],
      "execution_count": null,
      "outputs": []
    },
    {
      "cell_type": "code",
      "metadata": {
        "id": "FDnc_CGg2fo3"
      },
      "source": [
        "df_pro.head()"
      ],
      "execution_count": null,
      "outputs": []
    },
    {
      "cell_type": "code",
      "metadata": {
        "id": "kjCc6fQg4dKu"
      },
      "source": [
        "df_avc.count()"
      ],
      "execution_count": null,
      "outputs": []
    },
    {
      "cell_type": "code",
      "metadata": {
        "id": "FEOjCfFr2lz1"
      },
      "source": [
        "# Ordena e remove as linhas duplicadas do AVC\n",
        "df_avc2 = df_avc.sort_values('CNPJ', ascending=False)\n",
        "#df_avc2 = df_avc2.drop_duplicates(subset='CNPJ', keep='first')\n",
        "df_avc2.head()"
      ],
      "execution_count": null,
      "outputs": []
    },
    {
      "cell_type": "code",
      "metadata": {
        "id": "JsVifGiKXYKg"
      },
      "source": [
        "df_avc2 = df_avc2.drop_duplicates(subset='CNPJ', keep='first')"
      ],
      "execution_count": null,
      "outputs": []
    },
    {
      "cell_type": "code",
      "metadata": {
        "id": "zsFw6eiyXt6p"
      },
      "source": [
        "len(df_avc2)"
      ],
      "execution_count": null,
      "outputs": []
    },
    {
      "cell_type": "code",
      "metadata": {
        "id": "2n1vFJ7H3VKI"
      },
      "source": [
        "# Transforma em lista\n",
        "df_avc2 = df_avc2['CNPJ'].tolist()\n",
        "df_avc2 #.head()"
      ],
      "execution_count": null,
      "outputs": []
    },
    {
      "cell_type": "code",
      "metadata": {
        "id": "fyyk3-c6SDsj"
      },
      "source": [
        "df_pro2 = df_pro['CNPJ/CPF'].tolist()  "
      ],
      "execution_count": null,
      "outputs": []
    },
    {
      "cell_type": "code",
      "metadata": {
        "id": "FebKkf0o6Tpy"
      },
      "source": [
        "# Descrição dos dados\n",
        "df_pro.dtypes"
      ],
      "execution_count": null,
      "outputs": []
    },
    {
      "cell_type": "code",
      "metadata": {
        "id": "nDTTLbDbqnFv"
      },
      "source": [
        "type(df_pro2)\n"
      ],
      "execution_count": null,
      "outputs": []
    },
    {
      "cell_type": "code",
      "metadata": {
        "id": "nMyd_Iw9YWA2"
      },
      "source": [
        "type(df_avc2)"
      ],
      "execution_count": null,
      "outputs": []
    },
    {
      "cell_type": "code",
      "metadata": {
        "id": "ZdLw13m5qWxk"
      },
      "source": [
        "df_pro3 = []\n",
        "for i in df_pro2:\n",
        "  df_pro3.append(i.replace(\".\",\"\").replace(\"/\",\"\").replace(\"-\",\"\"))\n",
        "  \n",
        "df_pro3"
      ],
      "execution_count": null,
      "outputs": []
    },
    {
      "cell_type": "code",
      "metadata": {
        "id": "ZVCXOy-LMQ-0"
      },
      "source": [
        "def pesquisa_linear(a_pesquisar, elemento_desejado):\n",
        "  for cliavc in elemento_desejado:\n",
        "    for elemento in a_pesquisar:\n",
        "      if int(elemento) != cliavc:\n",
        "        print(\"Cliente {} NÃO está cadastrado.\".format(cliavc)) \n",
        "        break     "
      ],
      "execution_count": null,
      "outputs": []
    },
    {
      "cell_type": "code",
      "metadata": {
        "id": "tN8p41OmO7-h"
      },
      "source": [
        "# Pesquisa por elemento presente.\n",
        "pesquisa_linear(df_pro3, df_avc2)"
      ],
      "execution_count": null,
      "outputs": []
    }
  ]
}