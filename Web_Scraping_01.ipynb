{
  "nbformat": 4,
  "nbformat_minor": 0,
  "metadata": {
    "colab": {
      "name": "Web Scraping - 01.ipynb",
      "provenance": [],
      "authorship_tag": "ABX9TyM5J/xYaeV9bkNb7Uz8pB25",
      "include_colab_link": true
    },
    "kernelspec": {
      "name": "python3",
      "display_name": "Python 3"
    },
    "language_info": {
      "name": "python"
    }
  },
  "cells": [
    {
      "cell_type": "markdown",
      "metadata": {
        "id": "view-in-github",
        "colab_type": "text"
      },
      "source": [
        "<a href=\"https://colab.research.google.com/github/fabiopedroza/Algoritmos/blob/main/Web_Scraping_01.ipynb\" target=\"_parent\"><img src=\"https://colab.research.google.com/assets/colab-badge.svg\" alt=\"Open In Colab\"/></a>"
      ]
    },
    {
      "cell_type": "markdown",
      "metadata": {
        "id": "8wfPB5YLu5RX"
      },
      "source": [
        "## Google Colab \n",
        "### Web Scraping - 01\n",
        "### Trabalhando com a biblioteca BeautifulSoap"
      ]
    },
    {
      "cell_type": "code",
      "metadata": {
        "id": "8LsjoCDAVmaV"
      },
      "source": [
        "# Bibliotecas\n",
        "import lxml\n",
        "import pandas as pd\n",
        "import requests  # requisição de html\n",
        "from bs4 import BeautifulSoup # para trabalhar na web\n",
        "from urllib.request import urlopen\n",
        "import re # expressões regulares"
      ],
      "execution_count": 2,
      "outputs": []
    },
    {
      "cell_type": "code",
      "metadata": {
        "colab": {
          "base_uri": "https://localhost:8080/",
          "height": 35
        },
        "id": "Y7Esf6GfVmJK",
        "outputId": "ef0c3449-eacd-43ba-8b38-1400d99344b7"
      },
      "source": [
        "# https://www.imdb.com/\n",
        "\n",
        "search_url = f'https://www.imdb.com/'  # site e banda a serem pesquisadas\n",
        "\n",
        "search_url\n"
      ],
      "execution_count": 3,
      "outputs": [
        {
          "output_type": "execute_result",
          "data": {
            "application/vnd.google.colaboratory.intrinsic+json": {
              "type": "string"
            },
            "text/plain": [
              "'https://www.imdb.com/'"
            ]
          },
          "metadata": {
            "tags": []
          },
          "execution_count": 3
        }
      ]
    },
    {
      "cell_type": "code",
      "metadata": {
        "colab": {
          "base_uri": "https://localhost:8080/"
        },
        "id": "j2s2Rw0uVrSR",
        "outputId": "4f6b5e3e-4451-49e6-95d9-2b288cd5dd29"
      },
      "source": [
        "page = urlopen(search_url)  # faz a requisição\n",
        "page"
      ],
      "execution_count": 4,
      "outputs": [
        {
          "output_type": "execute_result",
          "data": {
            "text/plain": [
              "<http.client.HTTPResponse at 0x7f603ce61f90>"
            ]
          },
          "metadata": {
            "tags": []
          },
          "execution_count": 4
        }
      ]
    },
    {
      "cell_type": "code",
      "metadata": {
        "colab": {
          "base_uri": "https://localhost:8080/"
        },
        "id": "MWG74J0CqUo8",
        "outputId": "7d0c28f1-cc28-414c-8162-722b085a873f"
      },
      "source": [
        "ret = BeautifulSoup(page.read(),\"html.parser\")\n",
        "print(ret.title) "
      ],
      "execution_count": 5,
      "outputs": [
        {
          "output_type": "stream",
          "text": [
            "<title>IMDb: Ratings, Reviews, and Where to Watch the Best Movies &amp; TV Shows</title>\n"
          ],
          "name": "stdout"
        }
      ]
    },
    {
      "cell_type": "code",
      "metadata": {
        "colab": {
          "base_uri": "https://localhost:8080/"
        },
        "id": "tyXopCOucC53",
        "outputId": "d241e0c4-eb6c-4b5b-a0a7-e023440c6331"
      },
      "source": [
        "print(ret.title.text) "
      ],
      "execution_count": 9,
      "outputs": [
        {
          "output_type": "stream",
          "text": [
            "IMDb: Ratings, Reviews, and Where to Watch the Best Movies & TV Shows\n"
          ],
          "name": "stdout"
        }
      ]
    },
    {
      "cell_type": "code",
      "metadata": {
        "id": "Z6i69Qu-cC1r"
      },
      "source": [
        "url250 = urlopen(\"https://www.imdb.com/chart/top?ref_=nv_mv_250\")"
      ],
      "execution_count": 10,
      "outputs": []
    },
    {
      "cell_type": "code",
      "metadata": {
        "id": "N8iy1YlYcCxC"
      },
      "source": [
        "html = BeautifulSoup(url250.read(),\"html.parser\")\n",
        "contentTitleYear = html.find_all(\"td\", {\"class\": \"titleColumn\"})"
      ],
      "execution_count": 12,
      "outputs": []
    },
    {
      "cell_type": "code",
      "metadata": {
        "id": "UM_DdcO1oMg1"
      },
      "source": [
        "for cty in contentTitleYear:        \n",
        "    movieTitle = (cty.a).text\n",
        "    movieYear = (cty.span).text\n",
        "    print(movieTitle, '-', movieYear)"
      ],
      "execution_count": null,
      "outputs": []
    },
    {
      "cell_type": "code",
      "metadata": {
        "id": "DmAbjxtLoMbp"
      },
      "source": [
        ""
      ],
      "execution_count": null,
      "outputs": []
    },
    {
      "cell_type": "code",
      "metadata": {
        "id": "6Z8S63qroMVX"
      },
      "source": [
        "contentRating = html.find_all(\"td\", {\"class\": \"imdbRating\"} )\n",
        "      \n",
        "for cr in contentRating:            \n",
        "    print(cr.strong['title'])"
      ],
      "execution_count": null,
      "outputs": []
    },
    {
      "cell_type": "code",
      "metadata": {
        "id": "2GAMyAQGoMRZ"
      },
      "source": [
        ""
      ],
      "execution_count": null,
      "outputs": []
    },
    {
      "cell_type": "code",
      "metadata": {
        "id": "RAuscJ5OoMGF"
      },
      "source": [
        ""
      ],
      "execution_count": null,
      "outputs": []
    }
  ]
}